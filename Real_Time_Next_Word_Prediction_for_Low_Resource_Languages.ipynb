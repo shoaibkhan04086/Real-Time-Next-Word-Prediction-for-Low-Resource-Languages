{
  "nbformat": 4,
  "nbformat_minor": 0,
  "metadata": {
    "colab": {
      "provenance": []
    },
    "kernelspec": {
      "name": "python3",
      "display_name": "Python 3"
    },
    "language_info": {
      "name": "python"
    }
  },
  "cells": [
    {
      "cell_type": "code",
      "source": [
        "import numpy as np\n",
        "import tensorflow as tf\n",
        "from tensorflow.keras.preprocessing.text import Tokenizer\n",
        "from tensorflow.keras.preprocessing.sequence import pad_sequences\n",
        "from tensorflow.keras.models import Sequential\n",
        "from tensorflow.keras.layers import Embedding, LSTM, Dense\n",
        "from tensorflow.keras.utils import to_categorical"
      ],
      "metadata": {
        "id": "KCTYZqEuZ89D"
      },
      "execution_count": 46,
      "outputs": []
    },
    {
      "cell_type": "code",
      "source": [
        "faqs=\"\"\"<To Sherlock Holmes, woh hamesha the woman thi. Maine kabhi nahi suna usko uska koi aur naam lete hue. Uski nazron mein woh apni poori gender ko surpass karti thi aur dominate karti thi. Aisa nahi tha ke usne Irene Adler ke liye koi emotion feel kiya jo love jaisa tha. Sab emotions, aur yeh particular wala, uske cold, precise but admirably balanced mind ko bilkul pasand nahi tha.\n",
        "\n",
        "Main manta hoon, woh duniya ka sabse perfect reasoning aur observing machine tha, but as a lover, woh apne aap ko ek galat situation mein daal leta. Usne kabhi softer passions ke baare mein baat nahi ki thi, siwaye kisi gibe ya sneer ke. Yeh emotions observers ke liye toh kaafi useful cheez thi—insaan ke motives aur actions ka parda uthane ke liye kaam aati thi. Par ek trained reasoner ke liye inka apne delicate aur finely adjusted temperament mein entry dena matlab ek aise factor ko allow karna tha jo uske mental results par shak daal sakta tha. Jaise ek sensitive instrument mein grit ya uske high-power lenses mein ek crack, waise hi koi strong emotion uski nature ke liye disturb karne waali cheez hoti. Phir bhi, uske liye sirf ek woman thi, aur woh thi Irene Adler, jiska dubious aur questionable memory tha.\n",
        "\n",
        "Mainne Holmes ko lately zyada nahi dekha tha. Meri shaadi ne hum dono ko door kar diya tha. Meri apni khushi, aur woh home-centered interests jo ek aadmi ko absorb kar lete hain jab usko apna establishment ka master banne ka ehsaas hota hai, ne mera sara attention le liya tha. Wahi Holmes, jo har form of society se nafrat karta tha apne pure Bohemian soul ke saath, Baker Street mein apne purane books ke beech mein chup gaya tha, alternating week to week between cocaine aur ambition, drug ke drowsiness aur apni keen nature ke fierce energy ke beech.\n",
        "\n",
        "Woh ab bhi, jaise pehle tha, deeply attracted tha crime ke study se, aur apne immense faculties aur extraordinary observation powers ko un clues ko follow karne mein aur mysteries ko solve karne mein lagata jo official police ke liye hopeless ban chuki thi. Time to time, mujhe uske kuch vague kaam ke baare mein sunne ko milta: jaise usko Odessa bulaya gaya tha Trepoff murder ke case mein, ya usne Trincomalee mein Atkinson brothers tragedy ka solution dhoondha tha, ya phir uska mission jo usne Holland ke reigning family ke liye kaafi delicately aur successfully complete kiya tha. In signs ke alawa uski activity ke, jo mujhe sirf daily press ke readers ke saath share hoti thi, mujhe apne purane dost aur companion ke baare mein kuch zyada pata nahi tha.\n",
        "\n",
        "Ek raat—yeh 20 March, 1888 ki baat hai—main ek patient se wapas aa raha tha (kyun ki ab maine civil practice wapas start kar diya tha), jab meri raah Baker Street ke through guzri. Jaise hi main us well-remembered darwaze ke paas se guza, jo hamesha mere mind mein meri wooing aur Study in Scarlet ke dark incidents ke saath associated rahega, mujhe Holmes se wapas milne ki bohot strong desire hui, aur yeh jaanne ki woh apni extraordinary powers ko kaise use kar raha hai.\n",
        "\n",
        "Uske rooms bright lights se lit the, aur jaise hi main upar dekha, maine uske tall, spare figure ko do baar dekha, dark silhouette ke against blind ke peeche se guzarte hue. Woh room mein swiftly aur eagerly pace kar raha tha, apna sar apne seene pe jhukaye aur haath apni back ke peeche bandhe hue. Mujhe, jo uske har mood aur habit ko acchi tarah jaanta tha, uske attitude aur manner ne apni kahani bata di. Woh wapas kaam kar raha tha. Woh apne drug-created dreams se uth chuka tha aur kisi naye problem ki talash mein tha. Maine bell bajayi aur mujhe us room mein le jaya gaya jo kabhi mere part ka bhi tha.\n",
        "\n",
        "Uska manner zyada effusive nahi tha. Kabhi tha bhi nahi; par mujhe lagta hai, woh khush tha mujhe dekhkar. Hardly koi shabd bole bina, but ek kind eye ke saath, usne mujhe ek armchair mein baithne ka indication kiya, apne cigars ka case mere taraf feka, aur corner mein ek spirit case aur gasogene ki taraf ishara kiya. Phir woh fire ke saamne khada ho gaya aur apne singular introspective fashion mein mujhe dekhne laga.\n",
        "\n",
        "“Shaadi tumhe suit karti hai,” usne kaha. “Mujhe lagta hai, Watson, tumne mere last dekhne ke baad 7 aur aadha pounds badha liya hai.”\n",
        "\n",
        "“7!” maine jawab diya.\n",
        "\n",
        "“Indeed, mujhe thoda aur zyada lagta. Bas ek chhoti si extra baat, Watson. Aur tum wapas practice mein ho, main observe kar raha hoon. Tumne mujhe yeh nahi bataya ke tum wapas kaam pe jaa rahe ho.”\n",
        "\n",
        "“Toh, tum kaise jaane?”\n",
        "\n",
        "“Maine dekha, maine deduce kiya. Tumne kaafi baar apne aap ko bohot wet kiya hai lately, aur tumhare paas ek bohot clumsy aur careless servant girl hai.>”\"\"\""
      ],
      "metadata": {
        "id": "aKAS3AhIZ66e"
      },
      "execution_count": 47,
      "outputs": []
    },
    {
      "cell_type": "code",
      "source": [
        "tokenizer = Tokenizer()\n",
        "tokenizer.fit_on_texts([faqs])\n",
        "word_index = tokenizer.word_index\n",
        "vocab_size = len(word_index) + 1  # Adding 1 because of zero-padding\n"
      ],
      "metadata": {
        "id": "Q2HftJamaFhW"
      },
      "execution_count": 48,
      "outputs": []
    },
    {
      "cell_type": "code",
      "source": [
        "# Step 2: Generate input sequences\n",
        "input_sequences = []\n",
        "for sentence in faqs.split('\\n'):\n",
        "    tokenized_sentence = tokenizer.texts_to_sequences([sentence])[0]\n",
        "    for i in range(1, len(tokenized_sentence)):\n",
        "        input_sequences.append(tokenized_sentence[:i+1])"
      ],
      "metadata": {
        "id": "7ATgBCIPaGDd"
      },
      "execution_count": 49,
      "outputs": []
    },
    {
      "cell_type": "code",
      "source": [
        "# Step 3: Pad sequences\n",
        "max_len = max([len(x) for x in input_sequences])\n",
        "padded_input_sequences = pad_sequences(input_sequences, maxlen=max_len, padding='pre')"
      ],
      "metadata": {
        "id": "ugb4ss4zaJIB"
      },
      "execution_count": 50,
      "outputs": []
    },
    {
      "cell_type": "code",
      "source": [
        "# Step 4: Prepare input and output for the model\n",
        "X = padded_input_sequences[:, :-1]\n",
        "y = padded_input_sequences[:, -1]\n",
        "y = to_categorical(y, num_classes=vocab_size)"
      ],
      "metadata": {
        "id": "f7S_SKZyaL58"
      },
      "execution_count": 51,
      "outputs": []
    },
    {
      "cell_type": "code",
      "source": [
        "X.shape"
      ],
      "metadata": {
        "colab": {
          "base_uri": "https://localhost:8080/"
        },
        "id": "obE48L_7cR8X",
        "outputId": "f78513d4-8afe-4aef-fa68-31250c9797a4"
      },
      "execution_count": 52,
      "outputs": [
        {
          "output_type": "execute_result",
          "data": {
            "text/plain": [
              "(818, 145)"
            ]
          },
          "metadata": {},
          "execution_count": 52
        }
      ]
    },
    {
      "cell_type": "code",
      "source": [
        "y.shape"
      ],
      "metadata": {
        "colab": {
          "base_uri": "https://localhost:8080/"
        },
        "id": "RsK-EEw6cWHf",
        "outputId": "942ef78a-101e-4e09-ebad-b204705c1e0c"
      },
      "execution_count": 53,
      "outputs": [
        {
          "output_type": "execute_result",
          "data": {
            "text/plain": [
              "(818, 408)"
            ]
          },
          "metadata": {},
          "execution_count": 53
        }
      ]
    },
    {
      "cell_type": "code",
      "source": [
        "# Step 5: Define the model\n",
        "import tensorflow as tf\n",
        "from tensorflow.keras.models import Sequential\n",
        "from tensorflow.keras.layers import Embedding, LSTM, Dense\n",
        "\n",
        "# Assuming X.shape = (818, 145) and y.shape = (818, 408)\n",
        "vocab_size = 408  # Number of unique words\n",
        "input_length = 145  # Length of each input sequence\n",
        "\n",
        "# Step 1: Define the model with input shape\n",
        "model = Sequential()\n",
        "model.add(Embedding(input_dim=vocab_size, output_dim=100, input_length=input_length))\n",
        "model.add(LSTM(150, return_sequences=True))\n",
        "model.add(LSTM(150))\n",
        "model.add(Dense(vocab_size, activation='softmax'))\n",
        "\n",
        "# Step 2: Build the model explicitly with input shape\n",
        "model.build(input_shape=(None, input_length))\n",
        "\n",
        "# Step 3: Compile the model\n",
        "model.compile(optimizer='adam', loss='categorical_crossentropy', metrics=['accuracy'])\n",
        "\n",
        "# Step 4: Print model summary\n",
        "model.summary()\n"
      ],
      "metadata": {
        "colab": {
          "base_uri": "https://localhost:8080/",
          "height": 272
        },
        "id": "Z9iDkWtlaPnH",
        "outputId": "a5be897b-2647-423e-87e0-95594a653112"
      },
      "execution_count": 57,
      "outputs": [
        {
          "output_type": "display_data",
          "data": {
            "text/plain": [
              "\u001b[1mModel: \"sequential_10\"\u001b[0m\n"
            ],
            "text/html": [
              "<pre style=\"white-space:pre;overflow-x:auto;line-height:normal;font-family:Menlo,'DejaVu Sans Mono',consolas,'Courier New',monospace\"><span style=\"font-weight: bold\">Model: \"sequential_10\"</span>\n",
              "</pre>\n"
            ]
          },
          "metadata": {}
        },
        {
          "output_type": "display_data",
          "data": {
            "text/plain": [
              "┏━━━━━━━━━━━━━━━━━━━━━━━━━━━━━━━━━━━━━━┳━━━━━━━━━━━━━━━━━━━━━━━━━━━━━┳━━━━━━━━━━━━━━━━━┓\n",
              "┃\u001b[1m \u001b[0m\u001b[1mLayer (type)                        \u001b[0m\u001b[1m \u001b[0m┃\u001b[1m \u001b[0m\u001b[1mOutput Shape               \u001b[0m\u001b[1m \u001b[0m┃\u001b[1m \u001b[0m\u001b[1m        Param #\u001b[0m\u001b[1m \u001b[0m┃\n",
              "┡━━━━━━━━━━━━━━━━━━━━━━━━━━━━━━━━━━━━━━╇━━━━━━━━━━━━━━━━━━━━━━━━━━━━━╇━━━━━━━━━━━━━━━━━┩\n",
              "│ embedding_10 (\u001b[38;5;33mEmbedding\u001b[0m)             │ (\u001b[38;5;45mNone\u001b[0m, \u001b[38;5;34m145\u001b[0m, \u001b[38;5;34m100\u001b[0m)            │          \u001b[38;5;34m40,800\u001b[0m │\n",
              "├──────────────────────────────────────┼─────────────────────────────┼─────────────────┤\n",
              "│ lstm_20 (\u001b[38;5;33mLSTM\u001b[0m)                       │ (\u001b[38;5;45mNone\u001b[0m, \u001b[38;5;34m145\u001b[0m, \u001b[38;5;34m150\u001b[0m)            │         \u001b[38;5;34m150,600\u001b[0m │\n",
              "├──────────────────────────────────────┼─────────────────────────────┼─────────────────┤\n",
              "│ lstm_21 (\u001b[38;5;33mLSTM\u001b[0m)                       │ (\u001b[38;5;45mNone\u001b[0m, \u001b[38;5;34m150\u001b[0m)                 │         \u001b[38;5;34m180,600\u001b[0m │\n",
              "├──────────────────────────────────────┼─────────────────────────────┼─────────────────┤\n",
              "│ dense_10 (\u001b[38;5;33mDense\u001b[0m)                     │ (\u001b[38;5;45mNone\u001b[0m, \u001b[38;5;34m408\u001b[0m)                 │          \u001b[38;5;34m61,608\u001b[0m │\n",
              "└──────────────────────────────────────┴─────────────────────────────┴─────────────────┘\n"
            ],
            "text/html": [
              "<pre style=\"white-space:pre;overflow-x:auto;line-height:normal;font-family:Menlo,'DejaVu Sans Mono',consolas,'Courier New',monospace\">┏━━━━━━━━━━━━━━━━━━━━━━━━━━━━━━━━━━━━━━┳━━━━━━━━━━━━━━━━━━━━━━━━━━━━━┳━━━━━━━━━━━━━━━━━┓\n",
              "┃<span style=\"font-weight: bold\"> Layer (type)                         </span>┃<span style=\"font-weight: bold\"> Output Shape                </span>┃<span style=\"font-weight: bold\">         Param # </span>┃\n",
              "┡━━━━━━━━━━━━━━━━━━━━━━━━━━━━━━━━━━━━━━╇━━━━━━━━━━━━━━━━━━━━━━━━━━━━━╇━━━━━━━━━━━━━━━━━┩\n",
              "│ embedding_10 (<span style=\"color: #0087ff; text-decoration-color: #0087ff\">Embedding</span>)             │ (<span style=\"color: #00d7ff; text-decoration-color: #00d7ff\">None</span>, <span style=\"color: #00af00; text-decoration-color: #00af00\">145</span>, <span style=\"color: #00af00; text-decoration-color: #00af00\">100</span>)            │          <span style=\"color: #00af00; text-decoration-color: #00af00\">40,800</span> │\n",
              "├──────────────────────────────────────┼─────────────────────────────┼─────────────────┤\n",
              "│ lstm_20 (<span style=\"color: #0087ff; text-decoration-color: #0087ff\">LSTM</span>)                       │ (<span style=\"color: #00d7ff; text-decoration-color: #00d7ff\">None</span>, <span style=\"color: #00af00; text-decoration-color: #00af00\">145</span>, <span style=\"color: #00af00; text-decoration-color: #00af00\">150</span>)            │         <span style=\"color: #00af00; text-decoration-color: #00af00\">150,600</span> │\n",
              "├──────────────────────────────────────┼─────────────────────────────┼─────────────────┤\n",
              "│ lstm_21 (<span style=\"color: #0087ff; text-decoration-color: #0087ff\">LSTM</span>)                       │ (<span style=\"color: #00d7ff; text-decoration-color: #00d7ff\">None</span>, <span style=\"color: #00af00; text-decoration-color: #00af00\">150</span>)                 │         <span style=\"color: #00af00; text-decoration-color: #00af00\">180,600</span> │\n",
              "├──────────────────────────────────────┼─────────────────────────────┼─────────────────┤\n",
              "│ dense_10 (<span style=\"color: #0087ff; text-decoration-color: #0087ff\">Dense</span>)                     │ (<span style=\"color: #00d7ff; text-decoration-color: #00d7ff\">None</span>, <span style=\"color: #00af00; text-decoration-color: #00af00\">408</span>)                 │          <span style=\"color: #00af00; text-decoration-color: #00af00\">61,608</span> │\n",
              "└──────────────────────────────────────┴─────────────────────────────┴─────────────────┘\n",
              "</pre>\n"
            ]
          },
          "metadata": {}
        },
        {
          "output_type": "display_data",
          "data": {
            "text/plain": [
              "\u001b[1m Total params: \u001b[0m\u001b[38;5;34m433,608\u001b[0m (1.65 MB)\n"
            ],
            "text/html": [
              "<pre style=\"white-space:pre;overflow-x:auto;line-height:normal;font-family:Menlo,'DejaVu Sans Mono',consolas,'Courier New',monospace\"><span style=\"font-weight: bold\"> Total params: </span><span style=\"color: #00af00; text-decoration-color: #00af00\">433,608</span> (1.65 MB)\n",
              "</pre>\n"
            ]
          },
          "metadata": {}
        },
        {
          "output_type": "display_data",
          "data": {
            "text/plain": [
              "\u001b[1m Trainable params: \u001b[0m\u001b[38;5;34m433,608\u001b[0m (1.65 MB)\n"
            ],
            "text/html": [
              "<pre style=\"white-space:pre;overflow-x:auto;line-height:normal;font-family:Menlo,'DejaVu Sans Mono',consolas,'Courier New',monospace\"><span style=\"font-weight: bold\"> Trainable params: </span><span style=\"color: #00af00; text-decoration-color: #00af00\">433,608</span> (1.65 MB)\n",
              "</pre>\n"
            ]
          },
          "metadata": {}
        },
        {
          "output_type": "display_data",
          "data": {
            "text/plain": [
              "\u001b[1m Non-trainable params: \u001b[0m\u001b[38;5;34m0\u001b[0m (0.00 B)\n"
            ],
            "text/html": [
              "<pre style=\"white-space:pre;overflow-x:auto;line-height:normal;font-family:Menlo,'DejaVu Sans Mono',consolas,'Courier New',monospace\"><span style=\"font-weight: bold\"> Non-trainable params: </span><span style=\"color: #00af00; text-decoration-color: #00af00\">0</span> (0.00 B)\n",
              "</pre>\n"
            ]
          },
          "metadata": {}
        }
      ]
    },
    {
      "cell_type": "code",
      "source": [
        "# Train the model with early stopping\n",
        "model.fit(X, y, epochs=200)\n"
      ],
      "metadata": {
        "colab": {
          "base_uri": "https://localhost:8080/"
        },
        "id": "8Zxf1t1LaYeW",
        "outputId": "724f007e-72de-4003-c768-1644026c596d"
      },
      "execution_count": 62,
      "outputs": [
        {
          "output_type": "stream",
          "name": "stdout",
          "text": [
            "Epoch 1/200\n",
            "\u001b[1m26/26\u001b[0m \u001b[32m━━━━━━━━━━━━━━━━━━━━\u001b[0m\u001b[37m\u001b[0m \u001b[1m15s\u001b[0m 580ms/step - accuracy: 0.0425 - loss: 5.5584\n",
            "Epoch 2/200\n",
            "\u001b[1m26/26\u001b[0m \u001b[32m━━━━━━━━━━━━━━━━━━━━\u001b[0m\u001b[37m\u001b[0m \u001b[1m21s\u001b[0m 583ms/step - accuracy: 0.0511 - loss: 5.5832\n",
            "Epoch 3/200\n",
            "\u001b[1m26/26\u001b[0m \u001b[32m━━━━━━━━━━━━━━━━━━━━\u001b[0m\u001b[37m\u001b[0m \u001b[1m21s\u001b[0m 625ms/step - accuracy: 0.0610 - loss: 5.4507\n",
            "Epoch 4/200\n",
            "\u001b[1m26/26\u001b[0m \u001b[32m━━━━━━━━━━━━━━━━━━━━\u001b[0m\u001b[37m\u001b[0m \u001b[1m19s\u001b[0m 585ms/step - accuracy: 0.0462 - loss: 5.5031\n",
            "Epoch 5/200\n",
            "\u001b[1m26/26\u001b[0m \u001b[32m━━━━━━━━━━━━━━━━━━━━\u001b[0m\u001b[37m\u001b[0m \u001b[1m15s\u001b[0m 582ms/step - accuracy: 0.0403 - loss: 5.3836\n",
            "Epoch 6/200\n",
            "\u001b[1m26/26\u001b[0m \u001b[32m━━━━━━━━━━━━━━━━━━━━\u001b[0m\u001b[37m\u001b[0m \u001b[1m21s\u001b[0m 602ms/step - accuracy: 0.0500 - loss: 5.1824\n",
            "Epoch 7/200\n",
            "\u001b[1m26/26\u001b[0m \u001b[32m━━━━━━━━━━━━━━━━━━━━\u001b[0m\u001b[37m\u001b[0m \u001b[1m19s\u001b[0m 580ms/step - accuracy: 0.0555 - loss: 5.0656\n",
            "Epoch 8/200\n",
            "\u001b[1m26/26\u001b[0m \u001b[32m━━━━━━━━━━━━━━━━━━━━\u001b[0m\u001b[37m\u001b[0m \u001b[1m15s\u001b[0m 589ms/step - accuracy: 0.0578 - loss: 4.9683\n",
            "Epoch 9/200\n",
            "\u001b[1m26/26\u001b[0m \u001b[32m━━━━━━━━━━━━━━━━━━━━\u001b[0m\u001b[37m\u001b[0m \u001b[1m20s\u001b[0m 589ms/step - accuracy: 0.0724 - loss: 4.7498\n",
            "Epoch 10/200\n",
            "\u001b[1m26/26\u001b[0m \u001b[32m━━━━━━━━━━━━━━━━━━━━\u001b[0m\u001b[37m\u001b[0m \u001b[1m20s\u001b[0m 583ms/step - accuracy: 0.0676 - loss: 4.7302\n",
            "Epoch 11/200\n",
            "\u001b[1m26/26\u001b[0m \u001b[32m━━━━━━━━━━━━━━━━━━━━\u001b[0m\u001b[37m\u001b[0m \u001b[1m20s\u001b[0m 581ms/step - accuracy: 0.0737 - loss: 4.5247\n",
            "Epoch 12/200\n",
            "\u001b[1m26/26\u001b[0m \u001b[32m━━━━━━━━━━━━━━━━━━━━\u001b[0m\u001b[37m\u001b[0m \u001b[1m24s\u001b[0m 722ms/step - accuracy: 0.0900 - loss: 4.4280\n",
            "Epoch 13/200\n",
            "\u001b[1m26/26\u001b[0m \u001b[32m━━━━━━━━━━━━━━━━━━━━\u001b[0m\u001b[37m\u001b[0m \u001b[1m17s\u001b[0m 578ms/step - accuracy: 0.1206 - loss: 4.2136\n",
            "Epoch 14/200\n",
            "\u001b[1m26/26\u001b[0m \u001b[32m━━━━━━━━━━━━━━━━━━━━\u001b[0m\u001b[37m\u001b[0m \u001b[1m21s\u001b[0m 588ms/step - accuracy: 0.1155 - loss: 4.1861\n",
            "Epoch 15/200\n",
            "\u001b[1m26/26\u001b[0m \u001b[32m━━━━━━━━━━━━━━━━━━━━\u001b[0m\u001b[37m\u001b[0m \u001b[1m16s\u001b[0m 627ms/step - accuracy: 0.1287 - loss: 4.0699\n",
            "Epoch 16/200\n",
            "\u001b[1m26/26\u001b[0m \u001b[32m━━━━━━━━━━━━━━━━━━━━\u001b[0m\u001b[37m\u001b[0m \u001b[1m19s\u001b[0m 588ms/step - accuracy: 0.1381 - loss: 3.9583\n",
            "Epoch 17/200\n",
            "\u001b[1m26/26\u001b[0m \u001b[32m━━━━━━━━━━━━━━━━━━━━\u001b[0m\u001b[37m\u001b[0m \u001b[1m21s\u001b[0m 613ms/step - accuracy: 0.1642 - loss: 3.7984\n",
            "Epoch 18/200\n",
            "\u001b[1m26/26\u001b[0m \u001b[32m━━━━━━━━━━━━━━━━━━━━\u001b[0m\u001b[37m\u001b[0m \u001b[1m20s\u001b[0m 588ms/step - accuracy: 0.1923 - loss: 3.7036\n",
            "Epoch 19/200\n",
            "\u001b[1m26/26\u001b[0m \u001b[32m━━━━━━━━━━━━━━━━━━━━\u001b[0m\u001b[37m\u001b[0m \u001b[1m22s\u001b[0m 626ms/step - accuracy: 0.1860 - loss: 3.5736\n",
            "Epoch 20/200\n",
            "\u001b[1m26/26\u001b[0m \u001b[32m━━━━━━━━━━━━━━━━━━━━\u001b[0m\u001b[37m\u001b[0m \u001b[1m19s\u001b[0m 577ms/step - accuracy: 0.2170 - loss: 3.4522\n",
            "Epoch 21/200\n",
            "\u001b[1m26/26\u001b[0m \u001b[32m━━━━━━━━━━━━━━━━━━━━\u001b[0m\u001b[37m\u001b[0m \u001b[1m22s\u001b[0m 620ms/step - accuracy: 0.2464 - loss: 3.3531\n",
            "Epoch 22/200\n",
            "\u001b[1m26/26\u001b[0m \u001b[32m━━━━━━━━━━━━━━━━━━━━\u001b[0m\u001b[37m\u001b[0m \u001b[1m19s\u001b[0m 587ms/step - accuracy: 0.2487 - loss: 3.2427\n",
            "Epoch 23/200\n",
            "\u001b[1m26/26\u001b[0m \u001b[32m━━━━━━━━━━━━━━━━━━━━\u001b[0m\u001b[37m\u001b[0m \u001b[1m22s\u001b[0m 620ms/step - accuracy: 0.3213 - loss: 3.0833\n",
            "Epoch 24/200\n",
            "\u001b[1m26/26\u001b[0m \u001b[32m━━━━━━━━━━━━━━━━━━━━\u001b[0m\u001b[37m\u001b[0m \u001b[1m21s\u001b[0m 648ms/step - accuracy: 0.3438 - loss: 3.0064\n",
            "Epoch 25/200\n",
            "\u001b[1m26/26\u001b[0m \u001b[32m━━━━━━━━━━━━━━━━━━━━\u001b[0m\u001b[37m\u001b[0m \u001b[1m20s\u001b[0m 618ms/step - accuracy: 0.3792 - loss: 2.9014\n",
            "Epoch 26/200\n",
            "\u001b[1m26/26\u001b[0m \u001b[32m━━━━━━━━━━━━━━━━━━━━\u001b[0m\u001b[37m\u001b[0m \u001b[1m19s\u001b[0m 585ms/step - accuracy: 0.4140 - loss: 2.8207\n",
            "Epoch 27/200\n",
            "\u001b[1m26/26\u001b[0m \u001b[32m━━━━━━━━━━━━━━━━━━━━\u001b[0m\u001b[37m\u001b[0m \u001b[1m22s\u001b[0m 622ms/step - accuracy: 0.4478 - loss: 2.7121\n",
            "Epoch 28/200\n",
            "\u001b[1m26/26\u001b[0m \u001b[32m━━━━━━━━━━━━━━━━━━━━\u001b[0m\u001b[37m\u001b[0m \u001b[1m15s\u001b[0m 586ms/step - accuracy: 0.4316 - loss: 2.6740\n",
            "Epoch 29/200\n",
            "\u001b[1m26/26\u001b[0m \u001b[32m━━━━━━━━━━━━━━━━━━━━\u001b[0m\u001b[37m\u001b[0m \u001b[1m15s\u001b[0m 589ms/step - accuracy: 0.5189 - loss: 2.5276\n",
            "Epoch 30/200\n",
            "\u001b[1m26/26\u001b[0m \u001b[32m━━━━━━━━━━━━━━━━━━━━\u001b[0m\u001b[37m\u001b[0m \u001b[1m20s\u001b[0m 583ms/step - accuracy: 0.5562 - loss: 2.4073\n",
            "Epoch 31/200\n",
            "\u001b[1m26/26\u001b[0m \u001b[32m━━━━━━━━━━━━━━━━━━━━\u001b[0m\u001b[37m\u001b[0m \u001b[1m21s\u001b[0m 594ms/step - accuracy: 0.5661 - loss: 2.2896\n",
            "Epoch 32/200\n",
            "\u001b[1m26/26\u001b[0m \u001b[32m━━━━━━━━━━━━━━━━━━━━\u001b[0m\u001b[37m\u001b[0m \u001b[1m20s\u001b[0m 587ms/step - accuracy: 0.6366 - loss: 2.2159\n",
            "Epoch 33/200\n",
            "\u001b[1m26/26\u001b[0m \u001b[32m━━━━━━━━━━━━━━━━━━━━\u001b[0m\u001b[37m\u001b[0m \u001b[1m16s\u001b[0m 602ms/step - accuracy: 0.6366 - loss: 2.1515\n",
            "Epoch 34/200\n",
            "\u001b[1m26/26\u001b[0m \u001b[32m━━━━━━━━━━━━━━━━━━━━\u001b[0m\u001b[37m\u001b[0m \u001b[1m20s\u001b[0m 590ms/step - accuracy: 0.6827 - loss: 2.0389\n",
            "Epoch 35/200\n",
            "\u001b[1m26/26\u001b[0m \u001b[32m━━━━━━━━━━━━━━━━━━━━\u001b[0m\u001b[37m\u001b[0m \u001b[1m22s\u001b[0m 612ms/step - accuracy: 0.7264 - loss: 1.9457\n",
            "Epoch 36/200\n",
            "\u001b[1m26/26\u001b[0m \u001b[32m━━━━━━━━━━━━━━━━━━━━\u001b[0m\u001b[37m\u001b[0m \u001b[1m21s\u001b[0m 665ms/step - accuracy: 0.7742 - loss: 1.8511\n",
            "Epoch 37/200\n",
            "\u001b[1m26/26\u001b[0m \u001b[32m━━━━━━━━━━━━━━━━━━━━\u001b[0m\u001b[37m\u001b[0m \u001b[1m19s\u001b[0m 596ms/step - accuracy: 0.7783 - loss: 1.7782\n",
            "Epoch 38/200\n",
            "\u001b[1m26/26\u001b[0m \u001b[32m━━━━━━━━━━━━━━━━━━━━\u001b[0m\u001b[37m\u001b[0m \u001b[1m20s\u001b[0m 592ms/step - accuracy: 0.7952 - loss: 1.6734\n",
            "Epoch 39/200\n",
            "\u001b[1m26/26\u001b[0m \u001b[32m━━━━━━━━━━━━━━━━━━━━\u001b[0m\u001b[37m\u001b[0m \u001b[1m22s\u001b[0m 633ms/step - accuracy: 0.8158 - loss: 1.5938\n",
            "Epoch 40/200\n",
            "\u001b[1m26/26\u001b[0m \u001b[32m━━━━━━━━━━━━━━━━━━━━\u001b[0m\u001b[37m\u001b[0m \u001b[1m19s\u001b[0m 589ms/step - accuracy: 0.8157 - loss: 1.5557\n",
            "Epoch 41/200\n",
            "\u001b[1m26/26\u001b[0m \u001b[32m━━━━━━━━━━━━━━━━━━━━\u001b[0m\u001b[37m\u001b[0m \u001b[1m22s\u001b[0m 610ms/step - accuracy: 0.8451 - loss: 1.4634\n",
            "Epoch 42/200\n",
            "\u001b[1m26/26\u001b[0m \u001b[32m━━━━━━━━━━━━━━━━━━━━\u001b[0m\u001b[37m\u001b[0m \u001b[1m19s\u001b[0m 591ms/step - accuracy: 0.8638 - loss: 1.4273\n",
            "Epoch 43/200\n",
            "\u001b[1m26/26\u001b[0m \u001b[32m━━━━━━━━━━━━━━━━━━━━\u001b[0m\u001b[37m\u001b[0m \u001b[1m15s\u001b[0m 590ms/step - accuracy: 0.8666 - loss: 1.3575\n",
            "Epoch 44/200\n",
            "\u001b[1m26/26\u001b[0m \u001b[32m━━━━━━━━━━━━━━━━━━━━\u001b[0m\u001b[37m\u001b[0m \u001b[1m20s\u001b[0m 580ms/step - accuracy: 0.8833 - loss: 1.2926\n",
            "Epoch 45/200\n",
            "\u001b[1m26/26\u001b[0m \u001b[32m━━━━━━━━━━━━━━━━━━━━\u001b[0m\u001b[37m\u001b[0m \u001b[1m20s\u001b[0m 579ms/step - accuracy: 0.8855 - loss: 1.2118\n",
            "Epoch 46/200\n",
            "\u001b[1m26/26\u001b[0m \u001b[32m━━━━━━━━━━━━━━━━━━━━\u001b[0m\u001b[37m\u001b[0m \u001b[1m21s\u001b[0m 590ms/step - accuracy: 0.9120 - loss: 1.1275\n",
            "Epoch 47/200\n",
            "\u001b[1m26/26\u001b[0m \u001b[32m━━━━━━━━━━━━━━━━━━━━\u001b[0m\u001b[37m\u001b[0m \u001b[1m20s\u001b[0m 587ms/step - accuracy: 0.9077 - loss: 1.1127\n",
            "Epoch 48/200\n",
            "\u001b[1m26/26\u001b[0m \u001b[32m━━━━━━━━━━━━━━━━━━━━\u001b[0m\u001b[37m\u001b[0m \u001b[1m22s\u001b[0m 657ms/step - accuracy: 0.9274 - loss: 1.0652\n",
            "Epoch 49/200\n",
            "\u001b[1m26/26\u001b[0m \u001b[32m━━━━━━━━━━━━━━━━━━━━\u001b[0m\u001b[37m\u001b[0m \u001b[1m15s\u001b[0m 585ms/step - accuracy: 0.9384 - loss: 0.9919\n",
            "Epoch 50/200\n",
            "\u001b[1m26/26\u001b[0m \u001b[32m━━━━━━━━━━━━━━━━━━━━\u001b[0m\u001b[37m\u001b[0m \u001b[1m21s\u001b[0m 594ms/step - accuracy: 0.9440 - loss: 0.9446\n",
            "Epoch 51/200\n",
            "\u001b[1m26/26\u001b[0m \u001b[32m━━━━━━━━━━━━━━━━━━━━\u001b[0m\u001b[37m\u001b[0m \u001b[1m20s\u001b[0m 598ms/step - accuracy: 0.9444 - loss: 0.8976\n",
            "Epoch 52/200\n",
            "\u001b[1m26/26\u001b[0m \u001b[32m━━━━━━━━━━━━━━━━━━━━\u001b[0m\u001b[37m\u001b[0m \u001b[1m15s\u001b[0m 594ms/step - accuracy: 0.9574 - loss: 0.8766\n",
            "Epoch 53/200\n",
            "\u001b[1m26/26\u001b[0m \u001b[32m━━━━━━━━━━━━━━━━━━━━\u001b[0m\u001b[37m\u001b[0m \u001b[1m20s\u001b[0m 590ms/step - accuracy: 0.9563 - loss: 0.8000\n",
            "Epoch 54/200\n",
            "\u001b[1m26/26\u001b[0m \u001b[32m━━━━━━━━━━━━━━━━━━━━\u001b[0m\u001b[37m\u001b[0m \u001b[1m21s\u001b[0m 620ms/step - accuracy: 0.9641 - loss: 0.7583\n",
            "Epoch 55/200\n",
            "\u001b[1m26/26\u001b[0m \u001b[32m━━━━━━━━━━━━━━━━━━━━\u001b[0m\u001b[37m\u001b[0m \u001b[1m20s\u001b[0m 589ms/step - accuracy: 0.9715 - loss: 0.7248\n",
            "Epoch 56/200\n",
            "\u001b[1m26/26\u001b[0m \u001b[32m━━━━━━━━━━━━━━━━━━━━\u001b[0m\u001b[37m\u001b[0m \u001b[1m22s\u001b[0m 622ms/step - accuracy: 0.9842 - loss: 0.6619\n",
            "Epoch 57/200\n",
            "\u001b[1m26/26\u001b[0m \u001b[32m━━━━━━━━━━━━━━━━━━━━\u001b[0m\u001b[37m\u001b[0m \u001b[1m16s\u001b[0m 600ms/step - accuracy: 0.9817 - loss: 0.6272\n",
            "Epoch 58/200\n",
            "\u001b[1m26/26\u001b[0m \u001b[32m━━━━━━━━━━━━━━━━━━━━\u001b[0m\u001b[37m\u001b[0m \u001b[1m20s\u001b[0m 589ms/step - accuracy: 0.9820 - loss: 0.6054\n",
            "Epoch 59/200\n",
            "\u001b[1m26/26\u001b[0m \u001b[32m━━━━━━━━━━━━━━━━━━━━\u001b[0m\u001b[37m\u001b[0m \u001b[1m21s\u001b[0m 590ms/step - accuracy: 0.9814 - loss: 0.5788\n",
            "Epoch 60/200\n",
            "\u001b[1m26/26\u001b[0m \u001b[32m━━━━━━━━━━━━━━━━━━━━\u001b[0m\u001b[37m\u001b[0m \u001b[1m22s\u001b[0m 656ms/step - accuracy: 0.9907 - loss: 0.5677\n",
            "Epoch 61/200\n",
            "\u001b[1m26/26\u001b[0m \u001b[32m━━━━━━━━━━━━━━━━━━━━\u001b[0m\u001b[37m\u001b[0m \u001b[1m15s\u001b[0m 585ms/step - accuracy: 0.9822 - loss: 0.5381\n",
            "Epoch 62/200\n",
            "\u001b[1m26/26\u001b[0m \u001b[32m━━━━━━━━━━━━━━━━━━━━\u001b[0m\u001b[37m\u001b[0m \u001b[1m20s\u001b[0m 583ms/step - accuracy: 0.9876 - loss: 0.5001\n",
            "Epoch 63/200\n",
            "\u001b[1m26/26\u001b[0m \u001b[32m━━━━━━━━━━━━━━━━━━━━\u001b[0m\u001b[37m\u001b[0m \u001b[1m15s\u001b[0m 588ms/step - accuracy: 0.9828 - loss: 0.4816\n",
            "Epoch 64/200\n",
            "\u001b[1m26/26\u001b[0m \u001b[32m━━━━━━━━━━━━━━━━━━━━\u001b[0m\u001b[37m\u001b[0m \u001b[1m15s\u001b[0m 583ms/step - accuracy: 0.9865 - loss: 0.4676\n",
            "Epoch 65/200\n",
            "\u001b[1m26/26\u001b[0m \u001b[32m━━━━━━━━━━━━━━━━━━━━\u001b[0m\u001b[37m\u001b[0m \u001b[1m22s\u001b[0m 618ms/step - accuracy: 0.9938 - loss: 0.4266\n",
            "Epoch 66/200\n",
            "\u001b[1m26/26\u001b[0m \u001b[32m━━━━━━━━━━━━━━━━━━━━\u001b[0m\u001b[37m\u001b[0m \u001b[1m19s\u001b[0m 585ms/step - accuracy: 0.9930 - loss: 0.4172\n",
            "Epoch 67/200\n",
            "\u001b[1m26/26\u001b[0m \u001b[32m━━━━━━━━━━━━━━━━━━━━\u001b[0m\u001b[37m\u001b[0m \u001b[1m15s\u001b[0m 583ms/step - accuracy: 0.9919 - loss: 0.3858\n",
            "Epoch 68/200\n",
            "\u001b[1m26/26\u001b[0m \u001b[32m━━━━━━━━━━━━━━━━━━━━\u001b[0m\u001b[37m\u001b[0m \u001b[1m20s\u001b[0m 582ms/step - accuracy: 0.9951 - loss: 0.3600\n",
            "Epoch 69/200\n",
            "\u001b[1m26/26\u001b[0m \u001b[32m━━━━━━━━━━━━━━━━━━━━\u001b[0m\u001b[37m\u001b[0m \u001b[1m15s\u001b[0m 581ms/step - accuracy: 0.9918 - loss: 0.3512\n",
            "Epoch 70/200\n",
            "\u001b[1m26/26\u001b[0m \u001b[32m━━━━━━━━━━━━━━━━━━━━\u001b[0m\u001b[37m\u001b[0m \u001b[1m15s\u001b[0m 587ms/step - accuracy: 0.9918 - loss: 0.3450\n",
            "Epoch 71/200\n",
            "\u001b[1m26/26\u001b[0m \u001b[32m━━━━━━━━━━━━━━━━━━━━\u001b[0m\u001b[37m\u001b[0m \u001b[1m21s\u001b[0m 609ms/step - accuracy: 0.9965 - loss: 0.3137\n",
            "Epoch 72/200\n",
            "\u001b[1m26/26\u001b[0m \u001b[32m━━━━━━━━━━━━━━━━━━━━\u001b[0m\u001b[37m\u001b[0m \u001b[1m20s\u001b[0m 584ms/step - accuracy: 0.9944 - loss: 0.3076\n",
            "Epoch 73/200\n",
            "\u001b[1m26/26\u001b[0m \u001b[32m━━━━━━━━━━━━━━━━━━━━\u001b[0m\u001b[37m\u001b[0m \u001b[1m24s\u001b[0m 720ms/step - accuracy: 0.9945 - loss: 0.2932\n",
            "Epoch 74/200\n",
            "\u001b[1m26/26\u001b[0m \u001b[32m━━━━━━━━━━━━━━━━━━━━\u001b[0m\u001b[37m\u001b[0m \u001b[1m17s\u001b[0m 582ms/step - accuracy: 0.9953 - loss: 0.2746\n",
            "Epoch 75/200\n",
            "\u001b[1m26/26\u001b[0m \u001b[32m━━━━━━━━━━━━━━━━━━━━\u001b[0m\u001b[37m\u001b[0m \u001b[1m15s\u001b[0m 588ms/step - accuracy: 0.9947 - loss: 0.2640\n",
            "Epoch 76/200\n",
            "\u001b[1m26/26\u001b[0m \u001b[32m━━━━━━━━━━━━━━━━━━━━\u001b[0m\u001b[37m\u001b[0m \u001b[1m21s\u001b[0m 610ms/step - accuracy: 0.9977 - loss: 0.2590\n",
            "Epoch 77/200\n",
            "\u001b[1m26/26\u001b[0m \u001b[32m━━━━━━━━━━━━━━━━━━━━\u001b[0m\u001b[37m\u001b[0m \u001b[1m19s\u001b[0m 582ms/step - accuracy: 0.9973 - loss: 0.2306\n",
            "Epoch 78/200\n",
            "\u001b[1m26/26\u001b[0m \u001b[32m━━━━━━━━━━━━━━━━━━━━\u001b[0m\u001b[37m\u001b[0m \u001b[1m22s\u001b[0m 612ms/step - accuracy: 0.9958 - loss: 0.2268\n",
            "Epoch 79/200\n",
            "\u001b[1m26/26\u001b[0m \u001b[32m━━━━━━━━━━━━━━━━━━━━\u001b[0m\u001b[37m\u001b[0m \u001b[1m19s\u001b[0m 582ms/step - accuracy: 0.9958 - loss: 0.2182\n",
            "Epoch 80/200\n",
            "\u001b[1m26/26\u001b[0m \u001b[32m━━━━━━━━━━━━━━━━━━━━\u001b[0m\u001b[37m\u001b[0m \u001b[1m15s\u001b[0m 582ms/step - accuracy: 0.9983 - loss: 0.2207\n",
            "Epoch 81/200\n",
            "\u001b[1m26/26\u001b[0m \u001b[32m━━━━━━━━━━━━━━━━━━━━\u001b[0m\u001b[37m\u001b[0m \u001b[1m21s\u001b[0m 585ms/step - accuracy: 0.9945 - loss: 0.2277\n",
            "Epoch 82/200\n",
            "\u001b[1m26/26\u001b[0m \u001b[32m━━━━━━━━━━━━━━━━━━━━\u001b[0m\u001b[37m\u001b[0m \u001b[1m20s\u001b[0m 582ms/step - accuracy: 0.9960 - loss: 0.2072\n",
            "Epoch 83/200\n",
            "\u001b[1m26/26\u001b[0m \u001b[32m━━━━━━━━━━━━━━━━━━━━\u001b[0m\u001b[37m\u001b[0m \u001b[1m20s\u001b[0m 581ms/step - accuracy: 0.9971 - loss: 0.1884\n",
            "Epoch 84/200\n",
            "\u001b[1m26/26\u001b[0m \u001b[32m━━━━━━━━━━━━━━━━━━━━\u001b[0m\u001b[37m\u001b[0m \u001b[1m20s\u001b[0m 577ms/step - accuracy: 0.9989 - loss: 0.1820\n",
            "Epoch 85/200\n",
            "\u001b[1m26/26\u001b[0m \u001b[32m━━━━━━━━━━━━━━━━━━━━\u001b[0m\u001b[37m\u001b[0m \u001b[1m23s\u001b[0m 661ms/step - accuracy: 0.9986 - loss: 0.1770\n",
            "Epoch 86/200\n",
            "\u001b[1m26/26\u001b[0m \u001b[32m━━━━━━━━━━━━━━━━━━━━\u001b[0m\u001b[37m\u001b[0m \u001b[1m15s\u001b[0m 581ms/step - accuracy: 0.9988 - loss: 0.1669\n",
            "Epoch 87/200\n",
            "\u001b[1m26/26\u001b[0m \u001b[32m━━━━━━━━━━━━━━━━━━━━\u001b[0m\u001b[37m\u001b[0m \u001b[1m21s\u001b[0m 584ms/step - accuracy: 0.9976 - loss: 0.1566\n",
            "Epoch 88/200\n",
            "\u001b[1m26/26\u001b[0m \u001b[32m━━━━━━━━━━━━━━━━━━━━\u001b[0m\u001b[37m\u001b[0m \u001b[1m15s\u001b[0m 585ms/step - accuracy: 0.9961 - loss: 0.1597\n",
            "Epoch 89/200\n",
            "\u001b[1m26/26\u001b[0m \u001b[32m━━━━━━━━━━━━━━━━━━━━\u001b[0m\u001b[37m\u001b[0m \u001b[1m15s\u001b[0m 587ms/step - accuracy: 0.9986 - loss: 0.1447\n",
            "Epoch 90/200\n",
            "\u001b[1m26/26\u001b[0m \u001b[32m━━━━━━━━━━━━━━━━━━━━\u001b[0m\u001b[37m\u001b[0m \u001b[1m15s\u001b[0m 583ms/step - accuracy: 0.9984 - loss: 0.1422\n",
            "Epoch 91/200\n",
            "\u001b[1m26/26\u001b[0m \u001b[32m━━━━━━━━━━━━━━━━━━━━\u001b[0m\u001b[37m\u001b[0m \u001b[1m15s\u001b[0m 585ms/step - accuracy: 0.9967 - loss: 0.1410\n",
            "Epoch 92/200\n",
            "\u001b[1m26/26\u001b[0m \u001b[32m━━━━━━━━━━━━━━━━━━━━\u001b[0m\u001b[37m\u001b[0m \u001b[1m15s\u001b[0m 579ms/step - accuracy: 0.9984 - loss: 0.1359\n",
            "Epoch 93/200\n",
            "\u001b[1m26/26\u001b[0m \u001b[32m━━━━━━━━━━━━━━━━━━━━\u001b[0m\u001b[37m\u001b[0m \u001b[1m20s\u001b[0m 578ms/step - accuracy: 0.9983 - loss: 0.1345\n",
            "Epoch 94/200\n",
            "\u001b[1m26/26\u001b[0m \u001b[32m━━━━━━━━━━━━━━━━━━━━\u001b[0m\u001b[37m\u001b[0m \u001b[1m15s\u001b[0m 583ms/step - accuracy: 0.9971 - loss: 0.1414\n",
            "Epoch 95/200\n",
            "\u001b[1m26/26\u001b[0m \u001b[32m━━━━━━━━━━━━━━━━━━━━\u001b[0m\u001b[37m\u001b[0m \u001b[1m21s\u001b[0m 605ms/step - accuracy: 0.9983 - loss: 0.1297\n",
            "Epoch 96/200\n",
            "\u001b[1m26/26\u001b[0m \u001b[32m━━━━━━━━━━━━━━━━━━━━\u001b[0m\u001b[37m\u001b[0m \u001b[1m19s\u001b[0m 579ms/step - accuracy: 0.9987 - loss: 0.1140\n",
            "Epoch 97/200\n",
            "\u001b[1m26/26\u001b[0m \u001b[32m━━━━━━━━━━━━━━━━━━━━\u001b[0m\u001b[37m\u001b[0m \u001b[1m22s\u001b[0m 615ms/step - accuracy: 0.9986 - loss: 0.1107\n",
            "Epoch 98/200\n",
            "\u001b[1m26/26\u001b[0m \u001b[32m━━━━━━━━━━━━━━━━━━━━\u001b[0m\u001b[37m\u001b[0m \u001b[1m19s\u001b[0m 580ms/step - accuracy: 0.9960 - loss: 0.1097\n",
            "Epoch 99/200\n",
            "\u001b[1m26/26\u001b[0m \u001b[32m━━━━━━━━━━━━━━━━━━━━\u001b[0m\u001b[37m\u001b[0m \u001b[1m24s\u001b[0m 695ms/step - accuracy: 0.9994 - loss: 0.1074\n",
            "Epoch 100/200\n",
            "\u001b[1m26/26\u001b[0m \u001b[32m━━━━━━━━━━━━━━━━━━━━\u001b[0m\u001b[37m\u001b[0m \u001b[1m15s\u001b[0m 581ms/step - accuracy: 0.9958 - loss: 0.1058\n",
            "Epoch 101/200\n",
            "\u001b[1m26/26\u001b[0m \u001b[32m━━━━━━━━━━━━━━━━━━━━\u001b[0m\u001b[37m\u001b[0m \u001b[1m20s\u001b[0m 573ms/step - accuracy: 0.9989 - loss: 0.1053\n",
            "Epoch 102/200\n",
            "\u001b[1m26/26\u001b[0m \u001b[32m━━━━━━━━━━━━━━━━━━━━\u001b[0m\u001b[37m\u001b[0m \u001b[1m21s\u001b[0m 581ms/step - accuracy: 0.9996 - loss: 0.1012\n",
            "Epoch 103/200\n",
            "\u001b[1m26/26\u001b[0m \u001b[32m━━━━━━━━━━━━━━━━━━━━\u001b[0m\u001b[37m\u001b[0m \u001b[1m21s\u001b[0m 584ms/step - accuracy: 0.9983 - loss: 0.0901\n",
            "Epoch 104/200\n",
            "\u001b[1m26/26\u001b[0m \u001b[32m━━━━━━━━━━━━━━━━━━━━\u001b[0m\u001b[37m\u001b[0m \u001b[1m20s\u001b[0m 584ms/step - accuracy: 0.9994 - loss: 0.0946\n",
            "Epoch 105/200\n",
            "\u001b[1m26/26\u001b[0m \u001b[32m━━━━━━━━━━━━━━━━━━━━\u001b[0m\u001b[37m\u001b[0m \u001b[1m21s\u001b[0m 606ms/step - accuracy: 0.9995 - loss: 0.0888\n",
            "Epoch 106/200\n",
            "\u001b[1m26/26\u001b[0m \u001b[32m━━━━━━━━━━━━━━━━━━━━\u001b[0m\u001b[37m\u001b[0m \u001b[1m16s\u001b[0m 593ms/step - accuracy: 1.0000 - loss: 0.0887\n",
            "Epoch 107/200\n",
            "\u001b[1m26/26\u001b[0m \u001b[32m━━━━━━━━━━━━━━━━━━━━\u001b[0m\u001b[37m\u001b[0m \u001b[1m15s\u001b[0m 585ms/step - accuracy: 0.9995 - loss: 0.0858\n",
            "Epoch 108/200\n",
            "\u001b[1m26/26\u001b[0m \u001b[32m━━━━━━━━━━━━━━━━━━━━\u001b[0m\u001b[37m\u001b[0m \u001b[1m21s\u001b[0m 589ms/step - accuracy: 0.9986 - loss: 0.0833\n",
            "Epoch 109/200\n",
            "\u001b[1m26/26\u001b[0m \u001b[32m━━━━━━━━━━━━━━━━━━━━\u001b[0m\u001b[37m\u001b[0m \u001b[1m15s\u001b[0m 585ms/step - accuracy: 0.9997 - loss: 0.0759\n",
            "Epoch 110/200\n",
            "\u001b[1m26/26\u001b[0m \u001b[32m━━━━━━━━━━━━━━━━━━━━\u001b[0m\u001b[37m\u001b[0m \u001b[1m17s\u001b[0m 623ms/step - accuracy: 0.9998 - loss: 0.0748\n",
            "Epoch 111/200\n",
            "\u001b[1m26/26\u001b[0m \u001b[32m━━━━━━━━━━━━━━━━━━━━\u001b[0m\u001b[37m\u001b[0m \u001b[1m19s\u001b[0m 587ms/step - accuracy: 0.9990 - loss: 0.0741\n",
            "Epoch 112/200\n",
            "\u001b[1m26/26\u001b[0m \u001b[32m━━━━━━━━━━━━━━━━━━━━\u001b[0m\u001b[37m\u001b[0m \u001b[1m17s\u001b[0m 667ms/step - accuracy: 0.9951 - loss: 0.0751\n",
            "Epoch 113/200\n",
            "\u001b[1m26/26\u001b[0m \u001b[32m━━━━━━━━━━━━━━━━━━━━\u001b[0m\u001b[37m\u001b[0m \u001b[1m19s\u001b[0m 594ms/step - accuracy: 0.9959 - loss: 0.0762\n",
            "Epoch 114/200\n",
            "\u001b[1m26/26\u001b[0m \u001b[32m━━━━━━━━━━━━━━━━━━━━\u001b[0m\u001b[37m\u001b[0m \u001b[1m20s\u001b[0m 575ms/step - accuracy: 0.9986 - loss: 0.0744\n",
            "Epoch 115/200\n",
            "\u001b[1m26/26\u001b[0m \u001b[32m━━━━━━━━━━━━━━━━━━━━\u001b[0m\u001b[37m\u001b[0m \u001b[1m21s\u001b[0m 582ms/step - accuracy: 0.9955 - loss: 0.0687\n",
            "Epoch 116/200\n",
            "\u001b[1m26/26\u001b[0m \u001b[32m━━━━━━━━━━━━━━━━━━━━\u001b[0m\u001b[37m\u001b[0m \u001b[1m20s\u001b[0m 582ms/step - accuracy: 0.9961 - loss: 0.0663\n",
            "Epoch 117/200\n",
            "\u001b[1m26/26\u001b[0m \u001b[32m━━━━━━━━━━━━━━━━━━━━\u001b[0m\u001b[37m\u001b[0m \u001b[1m20s\u001b[0m 581ms/step - accuracy: 0.9990 - loss: 0.0636\n",
            "Epoch 118/200\n",
            "\u001b[1m26/26\u001b[0m \u001b[32m━━━━━━━━━━━━━━━━━━━━\u001b[0m\u001b[37m\u001b[0m \u001b[1m15s\u001b[0m 581ms/step - accuracy: 0.9993 - loss: 0.0588\n",
            "Epoch 119/200\n",
            "\u001b[1m26/26\u001b[0m \u001b[32m━━━━━━━━━━━━━━━━━━━━\u001b[0m\u001b[37m\u001b[0m \u001b[1m15s\u001b[0m 581ms/step - accuracy: 0.9995 - loss: 0.0581\n",
            "Epoch 120/200\n",
            "\u001b[1m26/26\u001b[0m \u001b[32m━━━━━━━━━━━━━━━━━━━━\u001b[0m\u001b[37m\u001b[0m \u001b[1m15s\u001b[0m 577ms/step - accuracy: 0.9994 - loss: 0.0561\n",
            "Epoch 121/200\n",
            "\u001b[1m26/26\u001b[0m \u001b[32m━━━━━━━━━━━━━━━━━━━━\u001b[0m\u001b[37m\u001b[0m \u001b[1m22s\u001b[0m 612ms/step - accuracy: 0.9979 - loss: 0.0598\n",
            "Epoch 122/200\n",
            "\u001b[1m26/26\u001b[0m \u001b[32m━━━━━━━━━━━━━━━━━━━━\u001b[0m\u001b[37m\u001b[0m \u001b[1m19s\u001b[0m 584ms/step - accuracy: 0.9998 - loss: 0.0597\n",
            "Epoch 123/200\n",
            "\u001b[1m26/26\u001b[0m \u001b[32m━━━━━━━━━━━━━━━━━━━━\u001b[0m\u001b[37m\u001b[0m \u001b[1m22s\u001b[0m 621ms/step - accuracy: 0.9997 - loss: 0.0543\n",
            "Epoch 124/200\n",
            "\u001b[1m26/26\u001b[0m \u001b[32m━━━━━━━━━━━━━━━━━━━━\u001b[0m\u001b[37m\u001b[0m \u001b[1m21s\u001b[0m 664ms/step - accuracy: 0.9998 - loss: 0.0520\n",
            "Epoch 125/200\n",
            "\u001b[1m26/26\u001b[0m \u001b[32m━━━━━━━━━━━━━━━━━━━━\u001b[0m\u001b[37m\u001b[0m \u001b[1m20s\u001b[0m 615ms/step - accuracy: 1.0000 - loss: 0.0514\n",
            "Epoch 126/200\n",
            "\u001b[1m26/26\u001b[0m \u001b[32m━━━━━━━━━━━━━━━━━━━━\u001b[0m\u001b[37m\u001b[0m \u001b[1m19s\u001b[0m 590ms/step - accuracy: 0.9996 - loss: 0.0500\n",
            "Epoch 127/200\n",
            "\u001b[1m26/26\u001b[0m \u001b[32m━━━━━━━━━━━━━━━━━━━━\u001b[0m\u001b[37m\u001b[0m \u001b[1m21s\u001b[0m 612ms/step - accuracy: 0.9989 - loss: 0.0497\n",
            "Epoch 128/200\n",
            "\u001b[1m26/26\u001b[0m \u001b[32m━━━━━━━━━━━━━━━━━━━━\u001b[0m\u001b[37m\u001b[0m \u001b[1m19s\u001b[0m 581ms/step - accuracy: 0.9993 - loss: 0.0488\n",
            "Epoch 129/200\n",
            "\u001b[1m26/26\u001b[0m \u001b[32m━━━━━━━━━━━━━━━━━━━━\u001b[0m\u001b[37m\u001b[0m \u001b[1m22s\u001b[0m 615ms/step - accuracy: 0.9988 - loss: 0.0447\n",
            "Epoch 130/200\n",
            "\u001b[1m26/26\u001b[0m \u001b[32m━━━━━━━━━━━━━━━━━━━━\u001b[0m\u001b[37m\u001b[0m \u001b[1m15s\u001b[0m 586ms/step - accuracy: 1.0000 - loss: 0.0494\n",
            "Epoch 131/200\n",
            "\u001b[1m26/26\u001b[0m \u001b[32m━━━━━━━━━━━━━━━━━━━━\u001b[0m\u001b[37m\u001b[0m \u001b[1m15s\u001b[0m 584ms/step - accuracy: 0.9998 - loss: 0.0478\n",
            "Epoch 132/200\n",
            "\u001b[1m26/26\u001b[0m \u001b[32m━━━━━━━━━━━━━━━━━━━━\u001b[0m\u001b[37m\u001b[0m \u001b[1m15s\u001b[0m 576ms/step - accuracy: 0.9977 - loss: 0.0452\n",
            "Epoch 133/200\n",
            "\u001b[1m26/26\u001b[0m \u001b[32m━━━━━━━━━━━━━━━━━━━━\u001b[0m\u001b[37m\u001b[0m \u001b[1m21s\u001b[0m 604ms/step - accuracy: 0.9991 - loss: 0.0417\n",
            "Epoch 134/200\n",
            "\u001b[1m26/26\u001b[0m \u001b[32m━━━━━━━━━━━━━━━━━━━━\u001b[0m\u001b[37m\u001b[0m \u001b[1m20s\u001b[0m 581ms/step - accuracy: 0.9999 - loss: 0.0415\n",
            "Epoch 135/200\n",
            "\u001b[1m26/26\u001b[0m \u001b[32m━━━━━━━━━━━━━━━━━━━━\u001b[0m\u001b[37m\u001b[0m \u001b[1m22s\u001b[0m 611ms/step - accuracy: 0.9972 - loss: 0.0439\n",
            "Epoch 136/200\n",
            "\u001b[1m26/26\u001b[0m \u001b[32m━━━━━━━━━━━━━━━━━━━━\u001b[0m\u001b[37m\u001b[0m \u001b[1m19s\u001b[0m 583ms/step - accuracy: 1.0000 - loss: 0.0396\n",
            "Epoch 137/200\n",
            "\u001b[1m26/26\u001b[0m \u001b[32m━━━━━━━━━━━━━━━━━━━━\u001b[0m\u001b[37m\u001b[0m \u001b[1m24s\u001b[0m 715ms/step - accuracy: 1.0000 - loss: 0.0375\n",
            "Epoch 138/200\n",
            "\u001b[1m26/26\u001b[0m \u001b[32m━━━━━━━━━━━━━━━━━━━━\u001b[0m\u001b[37m\u001b[0m \u001b[1m15s\u001b[0m 588ms/step - accuracy: 1.0000 - loss: 0.0351\n",
            "Epoch 139/200\n",
            "\u001b[1m26/26\u001b[0m \u001b[32m━━━━━━━━━━━━━━━━━━━━\u001b[0m\u001b[37m\u001b[0m \u001b[1m20s\u001b[0m 584ms/step - accuracy: 1.0000 - loss: 0.0372\n",
            "Epoch 140/200\n",
            "\u001b[1m26/26\u001b[0m \u001b[32m━━━━━━━━━━━━━━━━━━━━\u001b[0m\u001b[37m\u001b[0m \u001b[1m20s\u001b[0m 583ms/step - accuracy: 1.0000 - loss: 0.0369\n",
            "Epoch 141/200\n",
            "\u001b[1m26/26\u001b[0m \u001b[32m━━━━━━━━━━━━━━━━━━━━\u001b[0m\u001b[37m\u001b[0m \u001b[1m21s\u001b[0m 616ms/step - accuracy: 0.9998 - loss: 0.0340\n",
            "Epoch 142/200\n",
            "\u001b[1m26/26\u001b[0m \u001b[32m━━━━━━━━━━━━━━━━━━━━\u001b[0m\u001b[37m\u001b[0m \u001b[1m20s\u001b[0m 580ms/step - accuracy: 1.0000 - loss: 0.0364\n",
            "Epoch 143/200\n",
            "\u001b[1m26/26\u001b[0m \u001b[32m━━━━━━━━━━━━━━━━━━━━\u001b[0m\u001b[37m\u001b[0m \u001b[1m15s\u001b[0m 574ms/step - accuracy: 1.0000 - loss: 0.0349\n",
            "Epoch 144/200\n",
            "\u001b[1m26/26\u001b[0m \u001b[32m━━━━━━━━━━━━━━━━━━━━\u001b[0m\u001b[37m\u001b[0m \u001b[1m22s\u001b[0m 595ms/step - accuracy: 1.0000 - loss: 0.0324\n",
            "Epoch 145/200\n",
            "\u001b[1m26/26\u001b[0m \u001b[32m━━━━━━━━━━━━━━━━━━━━\u001b[0m\u001b[37m\u001b[0m \u001b[1m15s\u001b[0m 584ms/step - accuracy: 1.0000 - loss: 0.0317\n",
            "Epoch 146/200\n",
            "\u001b[1m26/26\u001b[0m \u001b[32m━━━━━━━━━━━━━━━━━━━━\u001b[0m\u001b[37m\u001b[0m \u001b[1m20s\u001b[0m 586ms/step - accuracy: 1.0000 - loss: 0.0343\n",
            "Epoch 147/200\n",
            "\u001b[1m26/26\u001b[0m \u001b[32m━━━━━━━━━━━━━━━━━━━━\u001b[0m\u001b[37m\u001b[0m \u001b[1m20s\u001b[0m 585ms/step - accuracy: 0.9997 - loss: 0.0291\n",
            "Epoch 148/200\n",
            "\u001b[1m26/26\u001b[0m \u001b[32m━━━━━━━━━━━━━━━━━━━━\u001b[0m\u001b[37m\u001b[0m \u001b[1m15s\u001b[0m 590ms/step - accuracy: 1.0000 - loss: 0.0303\n",
            "Epoch 149/200\n",
            "\u001b[1m26/26\u001b[0m \u001b[32m━━━━━━━━━━━━━━━━━━━━\u001b[0m\u001b[37m\u001b[0m \u001b[1m15s\u001b[0m 582ms/step - accuracy: 0.9999 - loss: 0.0285\n",
            "Epoch 150/200\n",
            "\u001b[1m26/26\u001b[0m \u001b[32m━━━━━━━━━━━━━━━━━━━━\u001b[0m\u001b[37m\u001b[0m \u001b[1m23s\u001b[0m 669ms/step - accuracy: 0.9999 - loss: 0.0279\n",
            "Epoch 151/200\n",
            "\u001b[1m26/26\u001b[0m \u001b[32m━━━━━━━━━━━━━━━━━━━━\u001b[0m\u001b[37m\u001b[0m \u001b[1m18s\u001b[0m 589ms/step - accuracy: 0.9988 - loss: 0.0286\n",
            "Epoch 152/200\n",
            "\u001b[1m26/26\u001b[0m \u001b[32m━━━━━━━━━━━━━━━━━━━━\u001b[0m\u001b[37m\u001b[0m \u001b[1m21s\u001b[0m 585ms/step - accuracy: 1.0000 - loss: 0.0278\n",
            "Epoch 153/200\n",
            "\u001b[1m26/26\u001b[0m \u001b[32m━━━━━━━━━━━━━━━━━━━━\u001b[0m\u001b[37m\u001b[0m \u001b[1m15s\u001b[0m 583ms/step - accuracy: 1.0000 - loss: 0.0269\n",
            "Epoch 154/200\n",
            "\u001b[1m26/26\u001b[0m \u001b[32m━━━━━━━━━━━━━━━━━━━━\u001b[0m\u001b[37m\u001b[0m \u001b[1m20s\u001b[0m 583ms/step - accuracy: 0.9999 - loss: 0.0263\n",
            "Epoch 155/200\n",
            "\u001b[1m26/26\u001b[0m \u001b[32m━━━━━━━━━━━━━━━━━━━━\u001b[0m\u001b[37m\u001b[0m \u001b[1m21s\u001b[0m 590ms/step - accuracy: 0.9997 - loss: 0.0252\n",
            "Epoch 156/200\n",
            "\u001b[1m26/26\u001b[0m \u001b[32m━━━━━━━━━━━━━━━━━━━━\u001b[0m\u001b[37m\u001b[0m \u001b[1m20s\u001b[0m 577ms/step - accuracy: 1.0000 - loss: 0.0268\n",
            "Epoch 157/200\n",
            "\u001b[1m26/26\u001b[0m \u001b[32m━━━━━━━━━━━━━━━━━━━━\u001b[0m\u001b[37m\u001b[0m \u001b[1m16s\u001b[0m 604ms/step - accuracy: 1.0000 - loss: 0.0253\n",
            "Epoch 158/200\n",
            "\u001b[1m26/26\u001b[0m \u001b[32m━━━━━━━━━━━━━━━━━━━━\u001b[0m\u001b[37m\u001b[0m \u001b[1m20s\u001b[0m 582ms/step - accuracy: 1.0000 - loss: 0.0252\n",
            "Epoch 159/200\n",
            "\u001b[1m26/26\u001b[0m \u001b[32m━━━━━━━━━━━━━━━━━━━━\u001b[0m\u001b[37m\u001b[0m \u001b[1m21s\u001b[0m 602ms/step - accuracy: 1.0000 - loss: 0.0240\n",
            "Epoch 160/200\n",
            "\u001b[1m26/26\u001b[0m \u001b[32m━━━━━━━━━━━━━━━━━━━━\u001b[0m\u001b[37m\u001b[0m \u001b[1m19s\u001b[0m 582ms/step - accuracy: 1.0000 - loss: 0.0238\n",
            "Epoch 161/200\n",
            "\u001b[1m26/26\u001b[0m \u001b[32m━━━━━━━━━━━━━━━━━━━━\u001b[0m\u001b[37m\u001b[0m \u001b[1m22s\u001b[0m 605ms/step - accuracy: 1.0000 - loss: 0.0235\n",
            "Epoch 162/200\n",
            "\u001b[1m26/26\u001b[0m \u001b[32m━━━━━━━━━━━━━━━━━━━━\u001b[0m\u001b[37m\u001b[0m \u001b[1m22s\u001b[0m 669ms/step - accuracy: 1.0000 - loss: 0.0232\n",
            "Epoch 163/200\n",
            "\u001b[1m26/26\u001b[0m \u001b[32m━━━━━━━━━━━━━━━━━━━━\u001b[0m\u001b[37m\u001b[0m \u001b[1m20s\u001b[0m 619ms/step - accuracy: 1.0000 - loss: 0.0224\n",
            "Epoch 164/200\n",
            "\u001b[1m26/26\u001b[0m \u001b[32m━━━━━━━━━━━━━━━━━━━━\u001b[0m\u001b[37m\u001b[0m \u001b[1m19s\u001b[0m 583ms/step - accuracy: 1.0000 - loss: 0.0215\n",
            "Epoch 165/200\n",
            "\u001b[1m26/26\u001b[0m \u001b[32m━━━━━━━━━━━━━━━━━━━━\u001b[0m\u001b[37m\u001b[0m \u001b[1m22s\u001b[0m 608ms/step - accuracy: 1.0000 - loss: 0.0208\n",
            "Epoch 166/200\n",
            "\u001b[1m26/26\u001b[0m \u001b[32m━━━━━━━━━━━━━━━━━━━━\u001b[0m\u001b[37m\u001b[0m \u001b[1m16s\u001b[0m 581ms/step - accuracy: 1.0000 - loss: 0.0196\n",
            "Epoch 167/200\n",
            "\u001b[1m26/26\u001b[0m \u001b[32m━━━━━━━━━━━━━━━━━━━━\u001b[0m\u001b[37m\u001b[0m \u001b[1m20s\u001b[0m 581ms/step - accuracy: 1.0000 - loss: 0.0202\n",
            "Epoch 168/200\n",
            "\u001b[1m26/26\u001b[0m \u001b[32m━━━━━━━━━━━━━━━━━━━━\u001b[0m\u001b[37m\u001b[0m \u001b[1m20s\u001b[0m 583ms/step - accuracy: 1.0000 - loss: 0.0191\n",
            "Epoch 169/200\n",
            "\u001b[1m26/26\u001b[0m \u001b[32m━━━━━━━━━━━━━━━━━━━━\u001b[0m\u001b[37m\u001b[0m \u001b[1m15s\u001b[0m 583ms/step - accuracy: 1.0000 - loss: 0.0200\n",
            "Epoch 170/200\n",
            "\u001b[1m26/26\u001b[0m \u001b[32m━━━━━━━━━━━━━━━━━━━━\u001b[0m\u001b[37m\u001b[0m \u001b[1m20s\u001b[0m 582ms/step - accuracy: 1.0000 - loss: 0.0194\n",
            "Epoch 171/200\n",
            "\u001b[1m26/26\u001b[0m \u001b[32m━━━━━━━━━━━━━━━━━━━━\u001b[0m\u001b[37m\u001b[0m \u001b[1m16s\u001b[0m 616ms/step - accuracy: 1.0000 - loss: 0.0184\n",
            "Epoch 172/200\n",
            "\u001b[1m26/26\u001b[0m \u001b[32m━━━━━━━━━━━━━━━━━━━━\u001b[0m\u001b[37m\u001b[0m \u001b[1m16s\u001b[0m 618ms/step - accuracy: 1.0000 - loss: 0.0202\n",
            "Epoch 173/200\n",
            "\u001b[1m26/26\u001b[0m \u001b[32m━━━━━━━━━━━━━━━━━━━━\u001b[0m\u001b[37m\u001b[0m \u001b[1m20s\u001b[0m 606ms/step - accuracy: 1.0000 - loss: 0.0171\n",
            "Epoch 174/200\n",
            "\u001b[1m26/26\u001b[0m \u001b[32m━━━━━━━━━━━━━━━━━━━━\u001b[0m\u001b[37m\u001b[0m \u001b[1m21s\u001b[0m 610ms/step - accuracy: 1.0000 - loss: 0.0178\n",
            "Epoch 175/200\n",
            "\u001b[1m26/26\u001b[0m \u001b[32m━━━━━━━━━━━━━━━━━━━━\u001b[0m\u001b[37m\u001b[0m \u001b[1m17s\u001b[0m 644ms/step - accuracy: 1.0000 - loss: 0.0174\n",
            "Epoch 176/200\n",
            "\u001b[1m26/26\u001b[0m \u001b[32m━━━━━━━━━━━━━━━━━━━━\u001b[0m\u001b[37m\u001b[0m \u001b[1m19s\u001b[0m 580ms/step - accuracy: 1.0000 - loss: 0.0173\n",
            "Epoch 177/200\n",
            "\u001b[1m26/26\u001b[0m \u001b[32m━━━━━━━━━━━━━━━━━━━━\u001b[0m\u001b[37m\u001b[0m \u001b[1m21s\u001b[0m 586ms/step - accuracy: 1.0000 - loss: 0.0164\n",
            "Epoch 178/200\n",
            "\u001b[1m26/26\u001b[0m \u001b[32m━━━━━━━━━━━━━━━━━━━━\u001b[0m\u001b[37m\u001b[0m \u001b[1m21s\u001b[0m 593ms/step - accuracy: 1.0000 - loss: 0.0160\n",
            "Epoch 179/200\n",
            "\u001b[1m26/26\u001b[0m \u001b[32m━━━━━━━━━━━━━━━━━━━━\u001b[0m\u001b[37m\u001b[0m \u001b[1m20s\u001b[0m 586ms/step - accuracy: 1.0000 - loss: 0.0159\n",
            "Epoch 180/200\n",
            "\u001b[1m26/26\u001b[0m \u001b[32m━━━━━━━━━━━━━━━━━━━━\u001b[0m\u001b[37m\u001b[0m \u001b[1m15s\u001b[0m 589ms/step - accuracy: 1.0000 - loss: 0.0164\n",
            "Epoch 181/200\n",
            "\u001b[1m26/26\u001b[0m \u001b[32m━━━━━━━━━━━━━━━━━━━━\u001b[0m\u001b[37m\u001b[0m \u001b[1m20s\u001b[0m 582ms/step - accuracy: 1.0000 - loss: 0.0148\n",
            "Epoch 182/200\n",
            "\u001b[1m26/26\u001b[0m \u001b[32m━━━━━━━━━━━━━━━━━━━━\u001b[0m\u001b[37m\u001b[0m \u001b[1m20s\u001b[0m 581ms/step - accuracy: 1.0000 - loss: 0.0151\n",
            "Epoch 183/200\n",
            "\u001b[1m26/26\u001b[0m \u001b[32m━━━━━━━━━━━━━━━━━━━━\u001b[0m\u001b[37m\u001b[0m \u001b[1m21s\u001b[0m 599ms/step - accuracy: 1.0000 - loss: 0.0143\n",
            "Epoch 184/200\n",
            "\u001b[1m26/26\u001b[0m \u001b[32m━━━━━━━━━━━━━━━━━━━━\u001b[0m\u001b[37m\u001b[0m \u001b[1m20s\u001b[0m 581ms/step - accuracy: 1.0000 - loss: 0.0149\n",
            "Epoch 185/200\n",
            "\u001b[1m26/26\u001b[0m \u001b[32m━━━━━━━━━━━━━━━━━━━━\u001b[0m\u001b[37m\u001b[0m \u001b[1m22s\u001b[0m 605ms/step - accuracy: 1.0000 - loss: 0.0141\n",
            "Epoch 186/200\n",
            "\u001b[1m26/26\u001b[0m \u001b[32m━━━━━━━━━━━━━━━━━━━━\u001b[0m\u001b[37m\u001b[0m \u001b[1m20s\u001b[0m 590ms/step - accuracy: 1.0000 - loss: 0.0137\n",
            "Epoch 187/200\n",
            "\u001b[1m26/26\u001b[0m \u001b[32m━━━━━━━━━━━━━━━━━━━━\u001b[0m\u001b[37m\u001b[0m \u001b[1m22s\u001b[0m 631ms/step - accuracy: 1.0000 - loss: 0.0135\n",
            "Epoch 188/200\n",
            "\u001b[1m26/26\u001b[0m \u001b[32m━━━━━━━━━━━━━━━━━━━━\u001b[0m\u001b[37m\u001b[0m \u001b[1m21s\u001b[0m 650ms/step - accuracy: 1.0000 - loss: 0.0128\n",
            "Epoch 189/200\n",
            "\u001b[1m26/26\u001b[0m \u001b[32m━━━━━━━━━━━━━━━━━━━━\u001b[0m\u001b[37m\u001b[0m \u001b[1m20s\u001b[0m 617ms/step - accuracy: 1.0000 - loss: 0.0133\n",
            "Epoch 190/200\n",
            "\u001b[1m26/26\u001b[0m \u001b[32m━━━━━━━━━━━━━━━━━━━━\u001b[0m\u001b[37m\u001b[0m \u001b[1m19s\u001b[0m 585ms/step - accuracy: 1.0000 - loss: 0.0132\n",
            "Epoch 191/200\n",
            "\u001b[1m26/26\u001b[0m \u001b[32m━━━━━━━━━━━━━━━━━━━━\u001b[0m\u001b[37m\u001b[0m \u001b[1m15s\u001b[0m 580ms/step - accuracy: 1.0000 - loss: 0.0132\n",
            "Epoch 192/200\n",
            "\u001b[1m26/26\u001b[0m \u001b[32m━━━━━━━━━━━━━━━━━━━━\u001b[0m\u001b[37m\u001b[0m \u001b[1m21s\u001b[0m 581ms/step - accuracy: 1.0000 - loss: 0.0123\n",
            "Epoch 193/200\n",
            "\u001b[1m26/26\u001b[0m \u001b[32m━━━━━━━━━━━━━━━━━━━━\u001b[0m\u001b[37m\u001b[0m \u001b[1m15s\u001b[0m 575ms/step - accuracy: 1.0000 - loss: 0.0127\n",
            "Epoch 194/200\n",
            "\u001b[1m26/26\u001b[0m \u001b[32m━━━━━━━━━━━━━━━━━━━━\u001b[0m\u001b[37m\u001b[0m \u001b[1m21s\u001b[0m 583ms/step - accuracy: 1.0000 - loss: 0.0119\n",
            "Epoch 195/200\n",
            "\u001b[1m26/26\u001b[0m \u001b[32m━━━━━━━━━━━━━━━━━━━━\u001b[0m\u001b[37m\u001b[0m \u001b[1m20s\u001b[0m 578ms/step - accuracy: 1.0000 - loss: 0.0119\n",
            "Epoch 196/200\n",
            "\u001b[1m26/26\u001b[0m \u001b[32m━━━━━━━━━━━━━━━━━━━━\u001b[0m\u001b[37m\u001b[0m \u001b[1m21s\u001b[0m 591ms/step - accuracy: 1.0000 - loss: 0.0113\n",
            "Epoch 197/200\n",
            "\u001b[1m26/26\u001b[0m \u001b[32m━━━━━━━━━━━━━━━━━━━━\u001b[0m\u001b[37m\u001b[0m \u001b[1m20s\u001b[0m 576ms/step - accuracy: 1.0000 - loss: 0.0108\n",
            "Epoch 198/200\n",
            "\u001b[1m26/26\u001b[0m \u001b[32m━━━━━━━━━━━━━━━━━━━━\u001b[0m\u001b[37m\u001b[0m \u001b[1m22s\u001b[0m 626ms/step - accuracy: 1.0000 - loss: 0.0107\n",
            "Epoch 199/200\n",
            "\u001b[1m26/26\u001b[0m \u001b[32m━━━━━━━━━━━━━━━━━━━━\u001b[0m\u001b[37m\u001b[0m \u001b[1m19s\u001b[0m 581ms/step - accuracy: 1.0000 - loss: 0.0107\n",
            "Epoch 200/200\n",
            "\u001b[1m26/26\u001b[0m \u001b[32m━━━━━━━━━━━━━━━━━━━━\u001b[0m\u001b[37m\u001b[0m \u001b[1m24s\u001b[0m 701ms/step - accuracy: 1.0000 - loss: 0.0112\n"
          ]
        },
        {
          "output_type": "execute_result",
          "data": {
            "text/plain": [
              "<keras.src.callbacks.history.History at 0x795e3337d450>"
            ]
          },
          "metadata": {},
          "execution_count": 62
        }
      ]
    },
    {
      "cell_type": "code",
      "source": [
        "import time\n",
        "import numpy as np\n",
        "from tensorflow.keras.preprocessing.sequence import pad_sequences\n",
        "\n",
        "# Take user input for the initial text\n",
        "text = input(\"Enter the initial text: \")\n",
        "\n",
        "# Generate predictions based on user input\n",
        "for i in range(4):\n",
        "  # tokenize\n",
        "  token_text = tokenizer.texts_to_sequences([text])[0]\n",
        "  # padding\n",
        "  padded_token_text = pad_sequences([token_text], maxlen=56, padding='pre')\n",
        "  # predict\n",
        "  pos = np.argmax(model.predict(padded_token_text))\n",
        "\n",
        "  for word,index in tokenizer.word_index.items():\n",
        "    if index == pos:\n",
        "      text = text + \" \" + word\n",
        "      print(text)\n",
        "      time.sleep(2)\n"
      ],
      "metadata": {
        "colab": {
          "base_uri": "https://localhost:8080/"
        },
        "id": "KV-yUEvMafQG",
        "outputId": "ed730dd4-ff3e-46cd-99d2-520a0da233c3"
      },
      "execution_count": 63,
      "outputs": [
        {
          "output_type": "stream",
          "name": "stdout",
          "text": [
            "Enter the initial text: woh duniya ka sabse perfect\n",
            "\u001b[1m1/1\u001b[0m \u001b[32m━━━━━━━━━━━━━━━━━━━━\u001b[0m\u001b[37m\u001b[0m \u001b[1m0s\u001b[0m 46ms/step\n",
            "woh duniya ka sabse perfect reasoning\n",
            "\u001b[1m1/1\u001b[0m \u001b[32m━━━━━━━━━━━━━━━━━━━━\u001b[0m\u001b[37m\u001b[0m \u001b[1m0s\u001b[0m 44ms/step\n",
            "woh duniya ka sabse perfect reasoning aur\n",
            "\u001b[1m1/1\u001b[0m \u001b[32m━━━━━━━━━━━━━━━━━━━━\u001b[0m\u001b[37m\u001b[0m \u001b[1m0s\u001b[0m 46ms/step\n",
            "woh duniya ka sabse perfect reasoning aur observing\n",
            "\u001b[1m1/1\u001b[0m \u001b[32m━━━━━━━━━━━━━━━━━━━━\u001b[0m\u001b[37m\u001b[0m \u001b[1m0s\u001b[0m 83ms/step\n",
            "woh duniya ka sabse perfect reasoning aur observing machine\n"
          ]
        }
      ]
    },
    {
      "cell_type": "code",
      "source": [],
      "metadata": {
        "id": "9nxQl_dzbQRx"
      },
      "execution_count": null,
      "outputs": []
    }
  ]
}